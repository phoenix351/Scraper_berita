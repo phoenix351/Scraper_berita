{
 "cells": [
  {
   "cell_type": "code",
   "execution_count": 3,
   "metadata": {},
   "outputs": [],
   "source": [
    "import pandas as pd\n",
    "import numpy as np"
   ]
  },
  {
   "cell_type": "code",
   "execution_count": 4,
   "metadata": {},
   "outputs": [
    {
     "data": {
      "text/html": [
       "<div>\n",
       "<style scoped>\n",
       "    .dataframe tbody tr th:only-of-type {\n",
       "        vertical-align: middle;\n",
       "    }\n",
       "\n",
       "    .dataframe tbody tr th {\n",
       "        vertical-align: top;\n",
       "    }\n",
       "\n",
       "    .dataframe thead th {\n",
       "        text-align: right;\n",
       "    }\n",
       "</style>\n",
       "<table border=\"1\" class=\"dataframe\">\n",
       "  <thead>\n",
       "    <tr style=\"text-align: right;\">\n",
       "      <th></th>\n",
       "      <th>isi_artikel</th>\n",
       "      <th>judul</th>\n",
       "      <th>penulis</th>\n",
       "      <th>tanggal</th>\n",
       "    </tr>\n",
       "  </thead>\n",
       "  <tbody>\n",
       "    <tr>\n",
       "      <th>0</th>\n",
       "      <td>KUPANG KOMPAS Anggota Polres Sikka Nusa Tengg...</td>\n",
       "      <td>Miliki 2 Botol Bom Ikan Warga Sikka NTT Ditan...</td>\n",
       "      <td>Penulis Kontributor Kupang Sigiranus Marutho ...</td>\n",
       "      <td>Kompas.com - 30/12/2019, 11:34 WIB</td>\n",
       "    </tr>\n",
       "    <tr>\n",
       "      <th>1</th>\n",
       "      <td>SURABAYA KOMPAS Persebaya Surabaya mengungkap...</td>\n",
       "      <td>Belum Dapat Surat Resmi Persebaya Tetap Galan...</td>\n",
       "      <td>Penulis Kontributor Bola Suci Rahayu</td>\n",
       "      <td>Kompas.com - 30/12/2019, 12:00 WIB</td>\n",
       "    </tr>\n",
       "    <tr>\n",
       "      <th>2</th>\n",
       "      <td>JAKARTA KOMPAS Sebanyak empat perumahan yang ...</td>\n",
       "      <td>Sampah Bambu Sumbat Bendungan Koja Bekasi 4 P...</td>\n",
       "      <td>Penulis Dean Pahrevi</td>\n",
       "      <td>Kompas.com - 30/12/2019, 11:35 WIB</td>\n",
       "    </tr>\n",
       "    <tr>\n",
       "      <th>3</th>\n",
       "      <td>JAKARTA KOMPAS Tol layang Jakarta Cikampek at...</td>\n",
       "      <td>Adu Cepat Lewat Tol Layang dan Tol Bawah Jape...</td>\n",
       "      <td>Penulis Setyo Adi Nugroho</td>\n",
       "      <td>Kompas.com - 30/12/2019, 11:37 WIB</td>\n",
       "    </tr>\n",
       "    <tr>\n",
       "      <th>4</th>\n",
       "      <td>BANDUNG KOMPAS Balai Pertemuan RW003 Keluraha...</td>\n",
       "      <td>Uha Manusia Gorong Terima Penghargaan dari Pe...</td>\n",
       "      <td>Penulis Kontributor Bandung Putra Prima Perdana</td>\n",
       "      <td>Kompas.com - 30/12/2019, 11:00 WIB</td>\n",
       "    </tr>\n",
       "  </tbody>\n",
       "</table>\n",
       "</div>"
      ],
      "text/plain": [
       "                                         isi_artikel  \\\n",
       "0   KUPANG KOMPAS Anggota Polres Sikka Nusa Tengg...   \n",
       "1   SURABAYA KOMPAS Persebaya Surabaya mengungkap...   \n",
       "2   JAKARTA KOMPAS Sebanyak empat perumahan yang ...   \n",
       "3   JAKARTA KOMPAS Tol layang Jakarta Cikampek at...   \n",
       "4   BANDUNG KOMPAS Balai Pertemuan RW003 Keluraha...   \n",
       "\n",
       "                                               judul  \\\n",
       "0   Miliki 2 Botol Bom Ikan Warga Sikka NTT Ditan...   \n",
       "1   Belum Dapat Surat Resmi Persebaya Tetap Galan...   \n",
       "2   Sampah Bambu Sumbat Bendungan Koja Bekasi 4 P...   \n",
       "3   Adu Cepat Lewat Tol Layang dan Tol Bawah Jape...   \n",
       "4   Uha Manusia Gorong Terima Penghargaan dari Pe...   \n",
       "\n",
       "                                             penulis  \\\n",
       "0   Penulis Kontributor Kupang Sigiranus Marutho ...   \n",
       "1               Penulis Kontributor Bola Suci Rahayu   \n",
       "2                               Penulis Dean Pahrevi   \n",
       "3                          Penulis Setyo Adi Nugroho   \n",
       "4    Penulis Kontributor Bandung Putra Prima Perdana   \n",
       "\n",
       "                              tanggal  \n",
       "0  Kompas.com - 30/12/2019, 11:34 WIB  \n",
       "1  Kompas.com - 30/12/2019, 12:00 WIB  \n",
       "2  Kompas.com - 30/12/2019, 11:35 WIB  \n",
       "3  Kompas.com - 30/12/2019, 11:37 WIB  \n",
       "4  Kompas.com - 30/12/2019, 11:00 WIB  "
      ]
     },
     "execution_count": 4,
     "metadata": {},
     "output_type": "execute_result"
    }
   ],
   "source": [
    "data = pd.read_json(\"kompasx.json\")\n",
    "data.head()"
   ]
  },
  {
   "cell_type": "code",
   "execution_count": 7,
   "metadata": {},
   "outputs": [
    {
     "data": {
      "text/plain": [
       "' KUPANG KOMPAS Anggota Polres Sikka Nusa Tenggara Timur NTT menangkap seorang warga asal Desa Lidi Kecamatan Palue Kabupaten Sikka berinisial AT 50 AT ditangkap karena diduga menjadi pelaku pengeboman ikan Pelaku kita amankan Minggu 29 kemarin ujar Kapolres Sikka AKBP Rickson Situmorang saat dikonfirmasi Senin 30 pagi Situmorang menjelaskan pihkanya telah membentuk tim khusus yang dipimpin Kasat Reskrim Polres Sikka dengan melakukan penyelidikan terhadap para pelaku bom ikan yang beraksi di sekitaran laut Flores Dari penyelidikan itu lanjut Sitorang tim mendapatkan informasi bahwa salah satu pelaku pengeboman ikan berasal dari Kecamatan Palue Kabupaten Sikka Baca juga Melawan Saat Ditangkap Pelaku Bom Ikan Adu Jotos dengan Anggota TNI Kemudian pada Minggu pagi tim membuntuti pelaku yang sedang menuju laut untuk mencari ikan dengan menggunakan sampan Setelah kembali ke darat polisi lalu melakukan penggerebekan Dari hasil penggerebekan itu polisi menemukan dua botol bom ikan yang sudah dirakit siap pakai di sampan dan di rumah singgah di Desa Aewora Kecamatan Maurole Kabupaten Ende Di rumah itu juga kata Situmorang ditemukan bahan untuk membuat bom ikan Saat ini pelaku sudah ditahan di Polres Sikka bersama sejumlah barang bukti guna penyidikan ujar dia Menurut Situmorang hal ini sejalan dengan instruksi Kapolda NTT Irjen Pol Hamidin kepada jajaran Polda NTT untuk menindak tegas para pelaku pengeboman ikan di laut'"
      ]
     },
     "execution_count": 7,
     "metadata": {},
     "output_type": "execute_result"
    }
   ],
   "source": [
    "isi_1 = data.iloc[0,0]\n",
    "isi_1"
   ]
  },
  {
   "cell_type": "code",
   "execution_count": 13,
   "metadata": {},
   "outputs": [],
   "source": [
    "import nltk\n",
    "from nltk.tokenize import word_tokenize\n",
    "from nltk.tag import pos_tag"
   ]
  },
  {
   "cell_type": "code",
   "execution_count": 11,
   "metadata": {},
   "outputs": [],
   "source": [
    "def preprocess(teks):\n",
    "    sent = nltk.pos_tag(nltk.word_tokenize(teks))\n",
    "    return sent"
   ]
  },
  {
   "cell_type": "code",
   "execution_count": 16,
   "metadata": {},
   "outputs": [
    {
     "ename": "LookupError",
     "evalue": "\n**********************************************************************\n  Resource \u001b[93maveraged_perceptron_tagger\u001b[0m not found.\n  Please use the NLTK Downloader to obtain the resource:\n\n  \u001b[31m>>> import nltk\n  >>> nltk.download('averaged_perceptron_tagger')\n  \u001b[0m\n  Attempted to load \u001b[93mtaggers/averaged_perceptron_tagger/averaged_perceptron_tagger.pickle\u001b[0m\n\n  Searched in:\n    - 'C:\\\\Users\\\\kuatp/nltk_data'\n    - 'C:\\\\Users\\\\kuatp\\\\Anaconda3\\\\nltk_data'\n    - 'C:\\\\Users\\\\kuatp\\\\Anaconda3\\\\share\\\\nltk_data'\n    - 'C:\\\\Users\\\\kuatp\\\\Anaconda3\\\\lib\\\\nltk_data'\n    - 'C:\\\\Users\\\\kuatp\\\\AppData\\\\Roaming\\\\nltk_data'\n    - 'C:\\\\nltk_data'\n    - 'D:\\\\nltk_data'\n    - 'E:\\\\nltk_data'\n**********************************************************************\n",
     "traceback": [
      "\u001b[1;31m---------------------------------------------------------------------------\u001b[0m",
      "\u001b[1;31mLookupError\u001b[0m                               Traceback (most recent call last)",
      "\u001b[1;32m<ipython-input-16-3717ab3444b5>\u001b[0m in \u001b[0;36m<module>\u001b[1;34m\u001b[0m\n\u001b[1;32m----> 1\u001b[1;33m \u001b[0mpreprocess\u001b[0m\u001b[1;33m(\u001b[0m\u001b[0misi_1\u001b[0m\u001b[1;33m)\u001b[0m\u001b[1;33m\u001b[0m\u001b[1;33m\u001b[0m\u001b[0m\n\u001b[0m",
      "\u001b[1;32m<ipython-input-11-0a620ce1da54>\u001b[0m in \u001b[0;36mpreprocess\u001b[1;34m(teks)\u001b[0m\n\u001b[0;32m      1\u001b[0m \u001b[1;32mdef\u001b[0m \u001b[0mpreprocess\u001b[0m\u001b[1;33m(\u001b[0m\u001b[0mteks\u001b[0m\u001b[1;33m)\u001b[0m\u001b[1;33m:\u001b[0m\u001b[1;33m\u001b[0m\u001b[1;33m\u001b[0m\u001b[0m\n\u001b[1;32m----> 2\u001b[1;33m     \u001b[0msent\u001b[0m \u001b[1;33m=\u001b[0m \u001b[0mnltk\u001b[0m\u001b[1;33m.\u001b[0m\u001b[0mpos_tag\u001b[0m\u001b[1;33m(\u001b[0m\u001b[0mnltk\u001b[0m\u001b[1;33m.\u001b[0m\u001b[0mword_tokenize\u001b[0m\u001b[1;33m(\u001b[0m\u001b[0mteks\u001b[0m\u001b[1;33m)\u001b[0m\u001b[1;33m)\u001b[0m\u001b[1;33m\u001b[0m\u001b[1;33m\u001b[0m\u001b[0m\n\u001b[0m\u001b[0;32m      3\u001b[0m     \u001b[1;32mreturn\u001b[0m \u001b[0msent\u001b[0m\u001b[1;33m\u001b[0m\u001b[1;33m\u001b[0m\u001b[0m\n",
      "\u001b[1;32m~\\Anaconda3\\lib\\site-packages\\nltk\\tag\\__init__.py\u001b[0m in \u001b[0;36mpos_tag\u001b[1;34m(tokens, tagset, lang)\u001b[0m\n\u001b[0;32m    159\u001b[0m     \u001b[1;33m:\u001b[0m\u001b[0mrtype\u001b[0m\u001b[1;33m:\u001b[0m \u001b[0mlist\u001b[0m\u001b[1;33m(\u001b[0m\u001b[0mtuple\u001b[0m\u001b[1;33m(\u001b[0m\u001b[0mstr\u001b[0m\u001b[1;33m,\u001b[0m \u001b[0mstr\u001b[0m\u001b[1;33m)\u001b[0m\u001b[1;33m)\u001b[0m\u001b[1;33m\u001b[0m\u001b[1;33m\u001b[0m\u001b[0m\n\u001b[0;32m    160\u001b[0m     \"\"\"\n\u001b[1;32m--> 161\u001b[1;33m     \u001b[0mtagger\u001b[0m \u001b[1;33m=\u001b[0m \u001b[0m_get_tagger\u001b[0m\u001b[1;33m(\u001b[0m\u001b[0mlang\u001b[0m\u001b[1;33m)\u001b[0m\u001b[1;33m\u001b[0m\u001b[1;33m\u001b[0m\u001b[0m\n\u001b[0m\u001b[0;32m    162\u001b[0m     \u001b[1;32mreturn\u001b[0m \u001b[0m_pos_tag\u001b[0m\u001b[1;33m(\u001b[0m\u001b[0mtokens\u001b[0m\u001b[1;33m,\u001b[0m \u001b[0mtagset\u001b[0m\u001b[1;33m,\u001b[0m \u001b[0mtagger\u001b[0m\u001b[1;33m,\u001b[0m \u001b[0mlang\u001b[0m\u001b[1;33m)\u001b[0m\u001b[1;33m\u001b[0m\u001b[1;33m\u001b[0m\u001b[0m\n\u001b[0;32m    163\u001b[0m \u001b[1;33m\u001b[0m\u001b[0m\n",
      "\u001b[1;32m~\\Anaconda3\\lib\\site-packages\\nltk\\tag\\__init__.py\u001b[0m in \u001b[0;36m_get_tagger\u001b[1;34m(lang)\u001b[0m\n\u001b[0;32m    105\u001b[0m         \u001b[0mtagger\u001b[0m\u001b[1;33m.\u001b[0m\u001b[0mload\u001b[0m\u001b[1;33m(\u001b[0m\u001b[0map_russian_model_loc\u001b[0m\u001b[1;33m)\u001b[0m\u001b[1;33m\u001b[0m\u001b[1;33m\u001b[0m\u001b[0m\n\u001b[0;32m    106\u001b[0m     \u001b[1;32melse\u001b[0m\u001b[1;33m:\u001b[0m\u001b[1;33m\u001b[0m\u001b[1;33m\u001b[0m\u001b[0m\n\u001b[1;32m--> 107\u001b[1;33m         \u001b[0mtagger\u001b[0m \u001b[1;33m=\u001b[0m \u001b[0mPerceptronTagger\u001b[0m\u001b[1;33m(\u001b[0m\u001b[1;33m)\u001b[0m\u001b[1;33m\u001b[0m\u001b[1;33m\u001b[0m\u001b[0m\n\u001b[0m\u001b[0;32m    108\u001b[0m     \u001b[1;32mreturn\u001b[0m \u001b[0mtagger\u001b[0m\u001b[1;33m\u001b[0m\u001b[1;33m\u001b[0m\u001b[0m\n\u001b[0;32m    109\u001b[0m \u001b[1;33m\u001b[0m\u001b[0m\n",
      "\u001b[1;32m~\\Anaconda3\\lib\\site-packages\\nltk\\tag\\perceptron.py\u001b[0m in \u001b[0;36m__init__\u001b[1;34m(self, load)\u001b[0m\n\u001b[0;32m    142\u001b[0m         \u001b[1;32mif\u001b[0m \u001b[0mload\u001b[0m\u001b[1;33m:\u001b[0m\u001b[1;33m\u001b[0m\u001b[1;33m\u001b[0m\u001b[0m\n\u001b[0;32m    143\u001b[0m             AP_MODEL_LOC = 'file:' + str(\n\u001b[1;32m--> 144\u001b[1;33m                 \u001b[0mfind\u001b[0m\u001b[1;33m(\u001b[0m\u001b[1;34m'taggers/averaged_perceptron_tagger/'\u001b[0m \u001b[1;33m+\u001b[0m \u001b[0mPICKLE\u001b[0m\u001b[1;33m)\u001b[0m\u001b[1;33m\u001b[0m\u001b[1;33m\u001b[0m\u001b[0m\n\u001b[0m\u001b[0;32m    145\u001b[0m             )\n\u001b[0;32m    146\u001b[0m             \u001b[0mself\u001b[0m\u001b[1;33m.\u001b[0m\u001b[0mload\u001b[0m\u001b[1;33m(\u001b[0m\u001b[0mAP_MODEL_LOC\u001b[0m\u001b[1;33m)\u001b[0m\u001b[1;33m\u001b[0m\u001b[1;33m\u001b[0m\u001b[0m\n",
      "\u001b[1;32m~\\Anaconda3\\lib\\site-packages\\nltk\\data.py\u001b[0m in \u001b[0;36mfind\u001b[1;34m(resource_name, paths)\u001b[0m\n\u001b[0;32m    697\u001b[0m     \u001b[0msep\u001b[0m \u001b[1;33m=\u001b[0m \u001b[1;34m'*'\u001b[0m \u001b[1;33m*\u001b[0m \u001b[1;36m70\u001b[0m\u001b[1;33m\u001b[0m\u001b[1;33m\u001b[0m\u001b[0m\n\u001b[0;32m    698\u001b[0m     \u001b[0mresource_not_found\u001b[0m \u001b[1;33m=\u001b[0m \u001b[1;34m'\\n%s\\n%s\\n%s\\n'\u001b[0m \u001b[1;33m%\u001b[0m \u001b[1;33m(\u001b[0m\u001b[0msep\u001b[0m\u001b[1;33m,\u001b[0m \u001b[0mmsg\u001b[0m\u001b[1;33m,\u001b[0m \u001b[0msep\u001b[0m\u001b[1;33m)\u001b[0m\u001b[1;33m\u001b[0m\u001b[1;33m\u001b[0m\u001b[0m\n\u001b[1;32m--> 699\u001b[1;33m     \u001b[1;32mraise\u001b[0m \u001b[0mLookupError\u001b[0m\u001b[1;33m(\u001b[0m\u001b[0mresource_not_found\u001b[0m\u001b[1;33m)\u001b[0m\u001b[1;33m\u001b[0m\u001b[1;33m\u001b[0m\u001b[0m\n\u001b[0m\u001b[0;32m    700\u001b[0m \u001b[1;33m\u001b[0m\u001b[0m\n\u001b[0;32m    701\u001b[0m \u001b[1;33m\u001b[0m\u001b[0m\n",
      "\u001b[1;31mLookupError\u001b[0m: \n**********************************************************************\n  Resource \u001b[93maveraged_perceptron_tagger\u001b[0m not found.\n  Please use the NLTK Downloader to obtain the resource:\n\n  \u001b[31m>>> import nltk\n  >>> nltk.download('averaged_perceptron_tagger')\n  \u001b[0m\n  Attempted to load \u001b[93mtaggers/averaged_perceptron_tagger/averaged_perceptron_tagger.pickle\u001b[0m\n\n  Searched in:\n    - 'C:\\\\Users\\\\kuatp/nltk_data'\n    - 'C:\\\\Users\\\\kuatp\\\\Anaconda3\\\\nltk_data'\n    - 'C:\\\\Users\\\\kuatp\\\\Anaconda3\\\\share\\\\nltk_data'\n    - 'C:\\\\Users\\\\kuatp\\\\Anaconda3\\\\lib\\\\nltk_data'\n    - 'C:\\\\Users\\\\kuatp\\\\AppData\\\\Roaming\\\\nltk_data'\n    - 'C:\\\\nltk_data'\n    - 'D:\\\\nltk_data'\n    - 'E:\\\\nltk_data'\n**********************************************************************\n"
     ],
     "output_type": "error"
    }
   ],
   "source": [
    "preprocess(isi_1)"
   ]
  },
  {
   "cell_type": "code",
   "execution_count": 17,
   "metadata": {},
   "outputs": [
    {
     "name": "stderr",
     "output_type": "stream",
     "text": [
      "[nltk_data] Downloading package averaged_perceptron_tagger to\n",
      "[nltk_data]     C:\\Users\\kuatp\\AppData\\Roaming\\nltk_data...\n",
      "[nltk_data] Error downloading 'averaged_perceptron_tagger' from\n",
      "[nltk_data]     <https://raw.githubusercontent.com/nltk/nltk_data/gh-p\n",
      "[nltk_data]     ages/packages/taggers/averaged_perceptron_tagger.zip>:\n",
      "[nltk_data]     [WinError 10053] An established connection was aborted\n",
      "[nltk_data]     by the software in your host machine\n"
     ]
    },
    {
     "data": {
      "text/plain": [
       "False"
      ]
     },
     "execution_count": 17,
     "metadata": {},
     "output_type": "execute_result"
    }
   ],
   "source": [
    "nltk.download('averaged_perceptron_tagger')\n"
   ]
  }
 ],
 "metadata": {
  "kernelspec": {
   "display_name": "Python 3",
   "language": "python",
   "name": "python3"
  },
  "language_info": {
   "codemirror_mode": {
    "name": "ipython",
    "version": 3
   },
   "file_extension": ".py",
   "mimetype": "text/x-python",
   "name": "python",
   "nbconvert_exporter": "python",
   "pygments_lexer": "ipython3",
   "version": "3.7.1"
  }
 },
 "nbformat": 4,
 "nbformat_minor": 2
}
